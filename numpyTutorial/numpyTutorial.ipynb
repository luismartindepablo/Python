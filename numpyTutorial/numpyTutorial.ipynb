{
 "metadata": {
  "language_info": {
   "codemirror_mode": {
    "name": "ipython",
    "version": 3
   },
   "file_extension": ".py",
   "mimetype": "text/x-python",
   "name": "python",
   "nbconvert_exporter": "python",
   "pygments_lexer": "ipython3",
   "version": "3.7.3-final"
  },
  "orig_nbformat": 2,
  "kernelspec": {
   "name": "python3",
   "display_name": "Python 3"
  }
 },
 "nbformat": 4,
 "nbformat_minor": 2,
 "cells": [
  {
   "source": [
    "# Numpy Tutorial"
   ],
   "cell_type": "markdown",
   "metadata": {}
  },
  {
   "cell_type": "code",
   "execution_count": null,
   "metadata": {},
   "outputs": [],
   "source": [
    "#Import numpy\n",
    "import numpy as np"
   ]
  },
  {
   "source": [
    "## The Basics"
   ],
   "cell_type": "markdown",
   "metadata": {}
  },
  {
   "cell_type": "code",
   "execution_count": null,
   "metadata": {},
   "outputs": [],
   "source": [
    "a = np.array([1,2,3]) # One dimensional array (int64 by default)\n",
    "print (\"a = \", a)\n",
    "print (a.ndim) # Dimensions\n",
    "print (a.shape) # Shape\n",
    "print (a.dtype) # Memory type\n",
    "print (a.itemsize) #bytes of each item\n",
    "print (a.size) # Number of elements\n",
    "print (a.nbytes) # Total memory"
   ]
  },
  {
   "cell_type": "code",
   "execution_count": null,
   "metadata": {},
   "outputs": [],
   "source": [
    "b = np.array([[1.1,2.2,3.3],[4.4,5.5,6.6],[7.7,8.8,9.9]]) # Two dimensional float array (float64 by default)\n",
    "print(\"b = \", b)\n",
    "print (b.ndim) # Dimensions\n",
    "print (b.shape) # Shape\n",
    "print (b.dtype) # Memory type\n",
    "print (b.itemsize) #bytes of each item\n",
    "print (b.size) # Number of elements\n",
    "print (b.nbytes) # Total memory"
   ]
  },
  {
   "source": [
    "## Accessing/Changing specific elements, rows, columns, etc."
   ],
   "cell_type": "markdown",
   "metadata": {}
  },
  {
   "cell_type": "code",
   "execution_count": null,
   "metadata": {},
   "outputs": [],
   "source": [
    "a = np.array([[1,2,3,4,5,6,7],[8,9,10,11,12,13,14]])\n",
    "\n",
    "# Get a specific element [r,c] indexing from 0\n",
    "print (a[1,2]) # row 1 column 2\n",
    "print (a[0,:]) # first row\n",
    "print (a[:,2]) # second column\n",
    "print (a[0,1:-1:2]) #first to six 2by2, first row\n",
    "\n",
    "# Changing values\n",
    "a[0,0] = 99; print (a)\n",
    "a[:,1] = [77,88]; print(a)\n",
    "\n",
    "# 3D exemple\n",
    "b = np.array([[[1,2],[3,4]],[[5,6],[7,8]]])\n",
    "print (b)\n",
    "print (b[0,:,:]) # first index is \"deepnes\"\n",
    "b[:,1,:] = [[8,8],[9,9]]; print (b)"
   ]
  },
  {
   "source": [
    "## Initializing different type of arrays"
   ],
   "cell_type": "markdown",
   "metadata": {}
  },
  {
   "cell_type": "code",
   "execution_count": null,
   "metadata": {},
   "outputs": [],
   "source": [
    "# Array of zeros\n",
    "print (np.zeros(5))\n",
    "print (np.zeros((3,2))) \n",
    "\n",
    "# Array of ones\n",
    "print (np.ones(5))\n",
    "print (np.ones((3,2))) \n",
    "\n",
    "# Other numbers\n",
    "print (np.full(5,99))\n",
    "print (np.full((3,2),99))\n",
    "\n",
    "# From other array shapes\n",
    "a = np.array([2,3])\n",
    "print (np.full(a.shape,4))\n",
    "print (np.full_like(a,4))\n",
    "\n",
    "# Random decimal numbers \n",
    "print (np.random.rand(2,3)) # np.random.rand() returns decimal numbers between 0 and 1\n",
    "print (np.random.random_sample(a.shape))\n",
    "\n",
    "# Random int numbers\n",
    "print (np.random.randint(5,10, size = a.size)) # random int from low (0 if None) to high of size ()\n",
    "\n",
    "# Id matrix\n",
    "print (np.identity(5))\n",
    "\n",
    "# Copying arrays different id\n",
    "b = a.copy() \n",
    "b[0] = 100\n",
    "print (b, a) \n",
    "\n",
    "# Linear spaced vector\n",
    "c, step = np.linspace(1, 10, 20, endpoint = False, retstep = True) #start, end, steps, end inclusive, return step size\n",
    "print (step)\n",
    "print (c) "
   ]
  },
  {
   "source": [
    "## Maths"
   ],
   "cell_type": "markdown",
   "metadata": {}
  },
  {
   "cell_type": "code",
   "execution_count": null,
   "metadata": {},
   "outputs": [],
   "source": [
    "a = np.array([1,2,3]); print (a)\n",
    "b = np.array([1,0,1]); print (b)\n",
    "\n",
    "# Basic operations\n",
    "print (a+2)\n",
    "print (a-2)\n",
    "print (a*2)\n",
    "print (a/2)\n",
    "print (a**2)\n",
    "print (a+b)"
   ]
  },
  {
   "source": [
    "## Linear Algebra"
   ],
   "cell_type": "markdown",
   "metadata": {}
  },
  {
   "cell_type": "code",
   "execution_count": null,
   "metadata": {},
   "outputs": [],
   "source": [
    "a = np.ones((2,3)); print (a)\n",
    "b = np.full((3,4), 2); print (b)\n",
    "\n",
    "# Basic operations\n",
    "print (np.matmul(a,b)) # Multiply\n",
    "print (np.multiply(b,b)) # Logic wise multiplication\n",
    "print (np.linalg.det(np.identity(3))) # Package np.linalg for more things\n"
   ]
  },
  {
   "source": [
    "## Statistics"
   ],
   "cell_type": "markdown",
   "metadata": {}
  },
  {
   "cell_type": "code",
   "execution_count": null,
   "metadata": {},
   "outputs": [],
   "source": [
    "a = np.array([[1,2,3],[4,5,6]])\n",
    "\n",
    "# Basic operations\n",
    "print (np.max(a)) #max\n",
    "print (np.min(a, axis = 0)) #min\n",
    "print (np.sum(a)) #sum"
   ]
  },
  {
   "source": [
    "## Reorganizing Arrays"
   ],
   "cell_type": "markdown",
   "metadata": {}
  },
  {
   "cell_type": "code",
   "execution_count": null,
   "metadata": {},
   "outputs": [],
   "source": [
    "a = np.array([[1,2,3],[4,5,6]])\n",
    "b = np.array([1,2,3])\n",
    "\n",
    "# Reshape\n",
    "print (a)\n",
    "print (a.reshape((6,1)))\n",
    "print (a.reshape((3,2)))\n",
    "\n",
    "# Stack\n",
    "print (np.vstack([b,b]))\n",
    "print (np.hstack([b,b]))"
   ]
  },
  {
   "source": [
    "## Load Data"
   ],
   "cell_type": "markdown",
   "metadata": {}
  },
  {
   "cell_type": "code",
   "execution_count": null,
   "metadata": {},
   "outputs": [],
   "source": [
    "# Import data from a txt file as an array\n",
    "data = np.genfromtxt(\"data.txt\", delimiter = \",\") # float by default\n",
    "data = data.astype(\"int32\") # transform to int\n",
    "print (data)"
   ]
  },
  {
   "source": [
    "## Boolean Indexing"
   ],
   "cell_type": "markdown",
   "metadata": {}
  },
  {
   "cell_type": "code",
   "execution_count": 149,
   "metadata": {},
   "outputs": [
    {
     "output_type": "stream",
     "name": "stdout",
     "text": [
      "[[  1   2   3   4   5   6   7   8   9   0]\n [ 11  22  33  44  55  66  77  88  99   0]\n [111 222 333 444 555 666 777 888 999   0]]\n[[False False False False False False False False False False]\n [False  True  True  True  True  True  True  True  True False]\n [ True  True  True  True  True  True  True  True  True False]]\n[ 1  2  3  4  5  6  7  8  9  0 11  0  0]\n[False False False  True  True  True  True  True  True False]\n[ True False False False False False False False False  True]\n[False False False False False False False False False False]\n"
     ]
    }
   ],
   "source": [
    "# Data to work\n",
    "data = np.genfromtxt(\"data.txt\", delimiter = \",\") # float by default\n",
    "data = data.astype(\"int32\") # transform to int\n",
    "print (data)\n",
    "\n",
    "# Bool array\n",
    "print (data > 20) \n",
    "print (data[data < 20]) # indexing with bool return 1D\n",
    "print (np.any(data > 400, axis = 0)) # any > 400 in each column\n",
    "print (np.all(data < 200, axis = 0)) # all < 200 in each column\n",
    "print (np.all(~(data < 200), axis = 0)) # not command ~"
   ]
  },
  {
   "cell_type": "code",
   "execution_count": null,
   "metadata": {},
   "outputs": [],
   "source": []
  }
 ]
}