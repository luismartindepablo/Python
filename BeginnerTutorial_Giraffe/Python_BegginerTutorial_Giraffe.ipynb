{
 "cells": [
  {
   "cell_type": "markdown",
   "metadata": {},
   "source": [
    "# Python Beginner's Tutorial"
   ]
  },
  {
   "cell_type": "code",
   "execution_count": null,
   "metadata": {},
   "outputs": [],
   "source": [
    "msg = \"Hello world\"\n",
    "print (msg) #print variable into the console"
   ]
  },
  {
   "cell_type": "markdown",
   "metadata": {},
   "source": [
    "### Variables and Data types"
   ]
  },
  {
   "cell_type": "code",
   "execution_count": null,
   "metadata": {},
   "outputs": [],
   "source": [
    "character_name = \"Tom\" #str\n",
    "character_age = 50 #int number\n",
    "character_weight = 60.3 #float number\n",
    "is_male = True #bool\n",
    "\n",
    "print (\"There was a man named \" + character_name + \",\") #concatenate strings\n",
    "print (\"he was \" + str(character_age) + \" years old and weighed \" + str(character_weight) + \"kg.\") #transform number into string"
   ]
  },
  {
   "cell_type": "markdown",
   "metadata": {},
   "source": [
    "### Working with Strings"
   ]
  },
  {
   "cell_type": "code",
   "execution_count": null,
   "metadata": {},
   "outputs": [],
   "source": [
    "print (\"This text will be \\nin two different lines,\") #performs a break line\n",
    "print(\"and we can print \\\" inside a string.\") #tells \" is not breaking the string"
   ]
  },
  {
   "cell_type": "code",
   "execution_count": null,
   "metadata": {},
   "outputs": [],
   "source": [
    "phrase = \"Let's WORK with this Phrase\" #str \n",
    "\n",
    "print (phrase.lower()) #converts all to lower case\n",
    "print (phrase.upper()) #converts all to upper case\n",
    "\n",
    "print (phrase.islower()) #ask if it's entire lower and returns a bool \n",
    "print (phrase.isupper()) #ask if it's entire upper and returns a bool\n",
    "\n",
    "print (phrase.upper().isupper()) #combine two functions and now return True\n",
    "\n",
    "print (len(phrase)) #returns the length of the string\n",
    "print (phrase[6]) #returns that index value (python indexing starts at 0)\n",
    "\n",
    "print (phrase.index(\"t\")) #returns the index of the first that matches\n",
    "print (phrase.index(\"WORK\")) #it works with larger strings, giving back the start index\n",
    "\n",
    "print (phrase.replace(\"WORK\", \"PLAY\")) #replaces the selected value by another"
   ]
  },
  {
   "cell_type": "markdown",
   "metadata": {},
   "source": [
    "### Working with Numbers"
   ]
  },
  {
   "cell_type": "code",
   "execution_count": null,
   "metadata": {},
   "outputs": [],
   "source": [
    "#save values into variables\n",
    "x = 3 #int\n",
    "y = -2.5 #float\n",
    "\n",
    "print (x + y) #operations between int and float give float as a result\n",
    "print (3 * (x - y)) #parenthesis priority\n",
    "\n",
    "print (10 % x) #mod gives back the reminder of the int division\n",
    "print (\"My favorite number is \" + str(7)) #transform number into string"
   ]
  },
  {
   "cell_type": "code",
   "execution_count": null,
   "metadata": {},
   "outputs": [],
   "source": [
    "print (abs(-5)) #absolute vale\n",
    "\n",
    "print (pow(2,4)) #variables are number and the power we want of that number\n",
    "\n",
    "print (max(2,4,3,7,5)) #returns the max value\n",
    "print (min(2,4,3,7,5)) #returns the min value\n",
    "\n",
    "print (round(3.2)) #returns the rounded number (0.5 is rounded up)"
   ]
  },
  {
   "cell_type": "code",
   "execution_count": null,
   "metadata": {},
   "outputs": [],
   "source": [
    "from math import * #import everything from the math package to gain acces to new functions\n",
    "\n",
    "print (floor(3.9)) #returns the ground value\n",
    "print (ceil(3.1)) #returns the ceil value\n",
    "print (sqrt(9)) #returns the square root (float)"
   ]
  },
  {
   "cell_type": "markdown",
   "metadata": {},
   "source": [
    "### Inputs from Users"
   ]
  },
  {
   "cell_type": "code",
   "execution_count": null,
   "metadata": {},
   "outputs": [],
   "source": [
    "name = input(\"Enter your name: \") #asks for an input from the user and save it in a string variable by default\n",
    "age = input(\"Enter your age: \") #it still a string\n",
    "\n",
    "print (\"Hello \" + name + \"! You are \" + age \".\")"
   ]
  },
  {
   "cell_type": "markdown",
   "metadata": {},
   "source": [
    "### Build a Basic Calculator"
   ]
  },
  {
   "cell_type": "code",
   "execution_count": null,
   "metadata": {},
   "outputs": [],
   "source": [
    "num_1 = input(\"Enter your first number: \") #str -> we need to convert into numbers\n",
    "num_2 = input(\"Enter your second number: \")\n",
    "\n",
    "#converts string into a number, but it must be a number, if not it breaks\n",
    "#result = int(num_1) + int(num_2) #converts into int (if decimal it breaks)\n",
    "result = float(num_1) + float(num_2) #converts into float\n",
    "\n",
    "print (result)"
   ]
  },
  {
   "cell_type": "markdown",
   "metadata": {},
   "source": [
    "### Mad Libs Game"
   ]
  },
  {
   "cell_type": "code",
   "execution_count": null,
   "metadata": {},
   "outputs": [],
   "source": [
    "#we specify what are we asking for\n",
    "color = input(\"Enter a color: \") \n",
    "plural_noun = input(\"Enter a plural noun: \")\n",
    "celebrity = input(\"Enter a celebrity: \")\n",
    "\n",
    "#and concatenate the variables into the poem\n",
    "print (\"Roses are \" + color + \",\")\n",
    "print (plural_noun + \" are blue,\")\n",
    "print (\"I love \" + celebrity + \".\")"
   ]
  },
  {
   "cell_type": "markdown",
   "metadata": {},
   "source": [
    "### Working with Lists"
   ]
  },
  {
   "cell_type": "code",
   "execution_count": null,
   "metadata": {},
   "outputs": [],
   "source": [
    "#a list is a sequnce of values stored all inside just one variable (we can store any datatype we want)\n",
    "friends_list = [\"Kevin\", \"Karen\", \"Jim\", \"Oscar\", \"Toby\"] #list of strings \n",
    "\n",
    "print (friends_list) #return all the list\n",
    "print (friends_list[1]) #returns the value of the index\n",
    "print (friends_list[-1]) #index can start counting from the end of the list (indexing starts at -1)\n",
    "print (friends_list[1:]) #selects from 1 until the end\n",
    "print (friends_list[1:3]) #selects from 1 until 3, not selecting the 3\n",
    "\n",
    "friends_list[2] = \"Sylvia\" #rename index 2 value\n",
    "print (friends_list)"
   ]
  },
  {
   "cell_type": "code",
   "execution_count": null,
   "metadata": {},
   "outputs": [],
   "source": [
    "lucky_numbers = [42, 8, 15, 16, 23] #list of int\n",
    "friends_list = [\"Kevin\", \"Karen\", \"Jim\", \"Oscar\", \"Toby\"] #list of strings \n",
    "\n",
    "friends_list.append(\"Sylvia\") #adds new value at the end \n",
    "print (friends_list)\n",
    "\n",
    "friends_list.insert(1, \"Oscar\") #adds new value at the index position, pushing to the right all the other values\n",
    "print (friends_list)\n",
    "\n",
    "friends_list.remove(\"Jim\") #removes the value from the list\n",
    "print (friends_list)\n",
    "\n",
    "friends_list.pop() #removes the last element from the list\n",
    "print (friends_list)\n",
    "\n",
    "print (friends_list.index(\"Oscar\")) #returns the index of the first of that value \n",
    "print (friends_list.count(\"Oscar\")) #returns the number of times that value is on the list\n",
    "\n",
    "lucky_numbers.sort() #sorts the list in alphabetical order\n",
    "print (lucky_numbers)\n",
    "\n",
    "lucky_numbers.reverse() #reverse the list order\n",
    "print (lucky_numbers)\n",
    "\n",
    "friends_copy = friends_list.copy() #clones the list\n",
    "print (friends_copy)\n",
    "\n",
    "friends_list.extend(lucky_numbers) #concatenates both lists\n",
    "print (friends_list) \n",
    "\n",
    "friends_list.clear() #completely clears the list from any value, blank list\n",
    "print (friends_list)"
   ]
  },
  {
   "cell_type": "markdown",
   "metadata": {},
   "source": [
    "### Working with Tupples"
   ]
  },
  {
   "cell_type": "code",
   "execution_count": null,
   "metadata": {},
   "outputs": [],
   "source": [
    "#tupples are similar to lists, but they are UNMUTABLE\n",
    "coordinates = (4,5) #tupples are writted with parenthesys\n",
    "print (coordinates[0]) #printing by index\n",
    "\n",
    "#we can create a list of tupples, tuples of lists, lists of lists, tupples of tupples, etc.\n",
    "coordinates_list = [(1,2), (4,5), (60,80)]\n",
    "print (coordinates_list)"
   ]
  },
  {
   "cell_type": "markdown",
   "metadata": {},
   "source": [
    "### Functions"
   ]
  },
  {
   "cell_type": "code",
   "execution_count": null,
   "metadata": {},
   "outputs": [],
   "source": [
    "#functions are colections of code that perform an specific task\n",
    "def say_hi(name, age): #defining the function and specifying the varibles it will call\n",
    "    print (\"Hello \" + name + \", you are \" + str(age) + \".\") #name is str and age is int\n",
    "\n",
    "say_hi(\"Luis\", 25) #calling the function makes it to execute, specifying the variables values"
   ]
  },
  {
   "cell_type": "code",
   "execution_count": null,
   "metadata": {},
   "outputs": [],
   "source": [
    "#functions can return values\n",
    "def cube(num):\n",
    "    return num**3 #returned value \n",
    "result = cube(4) #returned value can be stored\n",
    "print (result)"
   ]
  },
  {
   "cell_type": "markdown",
   "metadata": {},
   "source": [
    "### IF Statement"
   ]
  },
  {
   "cell_type": "code",
   "execution_count": null,
   "metadata": {},
   "outputs": [],
   "source": [
    "#if statements perform specific code within some conditions stablished\n",
    "is_male = False #bool\n",
    "if is_male: #if true executes this code\n",
    "    print (\"You are a male\")\n",
    "else: # if false executes this other code \n",
    "    print (\"You are not a male\")"
   ]
  },
  {
   "cell_type": "code",
   "execution_count": null,
   "metadata": {},
   "outputs": [],
   "source": [
    "#if statements allows combined conditions (OR)\n",
    "is_male = True #bool\n",
    "is_tall = False #bool\n",
    "if is_male or is_tall: #true if one is true, false if both are false\n",
    "    print (\"You are a male, or tall, or both\")\n",
    "else: \n",
    "    print (\"You are neither a male nor tall\")"
   ]
  },
  {
   "cell_type": "code",
   "execution_count": null,
   "metadata": {},
   "outputs": [],
   "source": [
    "#if statements allows combined conditions (AND)\n",
    "is_male = True #bool\n",
    "is_tall = False #bool\n",
    "if is_male and is_tall: #true if both are true, false instead\n",
    "    print (\"You are a male and tall\")\n",
    "else: \n",
    "    print (\"You are either not male or not tall, or both\")"
   ]
  },
  {
   "cell_type": "code",
   "execution_count": null,
   "metadata": {},
   "outputs": [],
   "source": [
    "#it can act in function of multiple condition calls\n",
    "is_male = True #bool\n",
    "is_tall = False #bool\n",
    "if is_male and is_tall: #true if both are true, false instead\n",
    "    print (\"You are a male and tall\")\n",
    "elif is_male and not(is_tall): #true if male is true and tall is false (not negates the bool variable)\n",
    "    print (\"You are a male but not tall\")\n",
    "else: #otherwise\n",
    "    print (\"You are not male\")"
   ]
  },
  {
   "cell_type": "code",
   "execution_count": null,
   "metadata": {},
   "outputs": [],
   "source": [
    "#we can create booleans variables with comparision statements (==, !=, >, >=, <, <=)\n",
    "def max_num(num1, num2, num3):\n",
    "    if num1 >= num2 and num1 >= num3: #the result of a comparision it's true or false\n",
    "        return num1\n",
    "    elif num2 >= num1 and num2 >= num3:\n",
    "        return num2\n",
    "    else:\n",
    "        return num3\n",
    "\n",
    "print (max_num(30, 4, 5))"
   ]
  },
  {
   "cell_type": "markdown",
   "metadata": {},
   "source": [
    "### Creating a better Calculator"
   ]
  },
  {
   "cell_type": "code",
   "execution_count": null,
   "metadata": {},
   "outputs": [],
   "source": [
    "num1 = float(input(\"Enter first number: \")) #converts into float immediatelly\n",
    "op = input(\"Enter operator: \") #string with the operation\n",
    "num2 = float(input(\"Enter second number: \"))\n",
    "\n",
    "#use comparision statements to detect which operation execute\n",
    "if op == \"+\":\n",
    "    print (num1 + num2)\n",
    "elif op == \"-\":\n",
    "    print (num1 - num2)\n",
    "elif op == \"/\":\n",
    "    print (num1 / num2)\n",
    "elif op == \"*\":\n",
    "    print (num1 * num2)\n",
    "else:\n",
    "    print (\"Invalid operator\")"
   ]
  },
  {
   "cell_type": "markdown",
   "metadata": {},
   "source": [
    "### Working with Dictionaries"
   ]
  },
  {
   "cell_type": "code",
   "execution_count": null,
   "metadata": {},
   "outputs": [],
   "source": [
    "#dictionaries associate different unique key values with it's pair\n",
    "monthConversions = { #every key must be unique\n",
    "    \"Jan\": \"January\", #keys can be numbers aswell\n",
    "    \"Feb\": \"February\",\n",
    "    \"Mar\": \"March\",\n",
    "    \"Apr\": \"April\",\n",
    "    \"May\": \"May\",\n",
    "    \"Jun\": \"June\",\n",
    "    \"Jul\": \"July\",\n",
    "    \"Aug\": \"August\",\n",
    "    \"Sep\": \"September\",\n",
    "    \"Oct\": \"October\",\n",
    "    \"Nov\": \"November\",\n",
    "    \"Dec\": \"December\"\n",
    "} \n",
    "\n",
    "print (monthConversions[\"Nov\"]) #call a value from its key (error for invalid key)\n",
    "print (monthConversions.get(\"Dec\")) #call a value from its key (None or custom for invalid key)\n",
    "print (monthConversions.get(\"Luv\", \"Not a valid Key\")) #call a value from its key (None or custom for invalid key)"
   ]
  },
  {
   "cell_type": "markdown",
   "metadata": {},
   "source": [
    "### While Loop"
   ]
  },
  {
   "cell_type": "code",
   "execution_count": null,
   "metadata": {},
   "outputs": [],
   "source": [
    "#loop through the code as long as the condition holds true\n",
    "ii = 1 \n",
    "while ii <= 10: #condition\n",
    "    print (ii)\n",
    "    ii += 1 #increment ii in 1"
   ]
  },
  {
   "cell_type": "markdown",
   "metadata": {},
   "source": [
    "### Guessing Game"
   ]
  },
  {
   "cell_type": "code",
   "execution_count": null,
   "metadata": {},
   "outputs": [],
   "source": [
    "#player has to guess which is the secret word\n",
    "secret_word = \"giraffe\"\n",
    "guess = \"\"\n",
    "\n",
    "guess_count = 0 #times we have guessed\n",
    "guess_limit = 3 #limited guesses\n",
    "out_of_guesses = False #when true we have run out of guesses\n",
    "\n",
    "#main game loop \n",
    "while guess != secret_word and not(out_of_guesses):\n",
    "    if guess_count < guess_limit:\n",
    "        guess = input(\"Enter guess :\")\n",
    "        guess_count += 1\n",
    "    else:\n",
    "        out_of_guesses = True\n",
    "\n",
    "#two possible end loop scenarios\n",
    "if out_of_guesses:\n",
    "    print (\"You lose!\")\n",
    "else:\n",
    "    print (\"You win!\")"
   ]
  },
  {
   "cell_type": "markdown",
   "metadata": {},
   "source": [
    "### For Loop"
   ]
  },
  {
   "cell_type": "code",
   "execution_count": null,
   "metadata": {},
   "outputs": [],
   "source": [
    "#for loops through a different collection of items\n",
    "for letter in \"Giraffe Academy\": #loop through all the elements of the string\n",
    "    print (letter)\n",
    "\n",
    "friends = [\"Kevin\", \"Karen\", \"Jim\", \"Oscar\", \"Toby\"] #list \n",
    "for name in friends: #loop through the elements of tha list\n",
    "    print (name)\n",
    "\n",
    "for index in range(10): #loops through the values of range, 0 to 9\n",
    "    print (index)\n",
    "\n",
    "for index in range(3, 10): #in range the last value is not included, 3 to 9\n",
    "    print (index)\n",
    "\n",
    "for index in range(len(friends)): #loop through the indexes of a list\n",
    "    print (friends[index])"
   ]
  },
  {
   "cell_type": "markdown",
   "metadata": {},
   "source": [
    "### Exponent Function"
   ]
  },
  {
   "cell_type": "code",
   "execution_count": null,
   "metadata": {},
   "outputs": [],
   "source": [
    "def raise_to_power(base_number, power_number): #similar to 2**3\n",
    "    result = 1 #power 0 equal 1\n",
    "    for ii in range(power_number):\n",
    "        result = result * base_number\n",
    "    return result\n",
    "\n",
    "print (raise_to_power(2,3))"
   ]
  },
  {
   "cell_type": "markdown",
   "metadata": {},
   "source": [
    "### 2D lists and Nested Functions"
   ]
  },
  {
   "cell_type": "code",
   "execution_count": null,
   "metadata": {},
   "outputs": [],
   "source": [
    "number_grid = [ #list of lists, 2D grid of 4 rows 3 columns\n",
    "    [1, 2, 3],\n",
    "    [4, 5, 6],\n",
    "    [7, 8, 9],\n",
    "    [0]\n",
    "]\n",
    "\n",
    "print (number_grid[3][0]) #first we select the row and then the column\n",
    "\n",
    "for row in number_grid: #returns rows\n",
    "    for column in row: #returns values of each row position\n",
    "        print (column) #we adress every value of the grid individualy"
   ]
  },
  {
   "cell_type": "markdown",
   "metadata": {},
   "source": [
    "### Build a Basic Translator"
   ]
  },
  {
   "cell_type": "code",
   "execution_count": null,
   "metadata": {},
   "outputs": [],
   "source": [
    "#translator that changes vouels by \"g\"\n",
    "def translate(phrase):\n",
    "    translation = \"\" #here we save the translation\n",
    "    for letter in phrase: #loop through original string\n",
    "        if letter.lower() in \"aeiou\": #chek if vouel but first lowering the phrase to improve performance\n",
    "            if letter.isupper(): #mantaing the original lower or upper  \n",
    "                translation = translation + \"G\"\n",
    "            else:\n",
    "                translation = translation + \"g\"\n",
    "        else:\n",
    "            translation = translation + letter #if not vouel keep the string\n",
    "    return translation\n",
    "\n",
    "print (translate(input(\"Enter your phrase: \"))) #user enters the phrase"
   ]
  },
  {
   "cell_type": "markdown",
   "metadata": {},
   "source": [
    "### Try Except"
   ]
  },
  {
   "cell_type": "code",
   "execution_count": null,
   "metadata": {},
   "outputs": [],
   "source": [
    "#avoid that the whole program breaks when encountering an error\n",
    "number = int(input(\"Enter a number: \")) #error if not a int number\n",
    "print (number)"
   ]
  },
  {
   "cell_type": "code",
   "execution_count": null,
   "metadata": {},
   "outputs": [],
   "source": [
    "try: #now we are able to handle error\n",
    "    number = int(input(\"Enter a number: \")) \n",
    "    print (number) \n",
    "    value = 10 / 0\n",
    "except ValueError: #catch an specific error and notify it customized\n",
    "    print (\"Invalid Input\")\n",
    "except ZeroDivisionError as err: #catch an specific error, we can notify it with de default error\n",
    "    print (err)\n",
    "except: #notice that if not specified it justifies any error!!! caution!!!\n",
    "    print (\"Any other error\")"
   ]
  },
  {
   "cell_type": "markdown",
   "metadata": {},
   "source": [
    "### Reading files"
   ]
  },
  {
   "cell_type": "code",
   "execution_count": null,
   "metadata": {},
   "outputs": [],
   "source": [
    "#open let us open different files from our computer in python (-w for writte, -a for append information, -r+ means read and write)\n",
    "employee_file = open(\"reading_test.txt\", \"r\") #if in the same directory just the name, and -r stands for just read\n",
    "\n",
    "print (employee_file.readable()) #check if the file is readable\n",
    "print (employee_file.read()) #read the file\n",
    "\n",
    "employee_file.close() #always close the file"
   ]
  },
  {
   "cell_type": "code",
   "execution_count": null,
   "metadata": {},
   "outputs": [],
   "source": [
    "employee_file = open(\"reading_test.txt\", \"r\") #read line move by one every time we call it\n",
    "\n",
    "print (employee_file.readline()) #read the first line\n",
    "print (employee_file.readline()) #read the second line\n",
    "\n",
    "print (employee_file.readlines()) #saves each line as a string in a list (starts in third line)\n",
    "\n",
    "employee_file.close() #always close the file"
   ]
  },
  {
   "cell_type": "code",
   "execution_count": null,
   "metadata": {},
   "outputs": [],
   "source": [
    "employee_file = open(\"reading_test.txt\", \"r\") #we can read the desired line with the list\n",
    "\n",
    "print (employee_file.readlines()[1]) #saves each line as a string in a list (starts in third line)\n",
    "\n",
    "employee_file.close() #always close the file"
   ]
  },
  {
   "cell_type": "code",
   "execution_count": null,
   "metadata": {},
   "outputs": [],
   "source": [
    "employee_file = open(\"reading_test.txt\", \"r\") #or use a for through the list\n",
    "\n",
    "for employee in employee_file.readlines():\n",
    "    print (employee) \n",
    "    \n",
    "employee_file.close() #always close the file"
   ]
  },
  {
   "cell_type": "markdown",
   "metadata": {},
   "source": [
    "### Writing to Files"
   ]
  },
  {
   "cell_type": "code",
   "execution_count": null,
   "metadata": {},
   "outputs": [],
   "source": [
    "#open with -a let us append information at the end of the file \n",
    "employee_file = open(\"reading_test.txt\", \"a\") #if in the same directory just the name, and -a stands for append\n",
    "\n",
    "employee_file.write(\"\\nToby - Human Resources\") #writte at the end of the .txt\n",
    "\n",
    "employee_file.close() #always close the file"
   ]
  },
  {
   "cell_type": "code",
   "execution_count": null,
   "metadata": {},
   "outputs": [],
   "source": [
    "#open with -w let us to write information on the file, be carefull, it overwrittes the previous data\n",
    "employee_file = open(\"writing_test.txt\", \"w\") #we can create in the same directory a new file, and -w stands for writing\n",
    "\n",
    "employee_file.write(\"Toby - Human Resources\") #overwrite the .txt with new information\n",
    "\n",
    "employee_file.close() #always close the file"
   ]
  },
  {
   "cell_type": "markdown",
   "metadata": {},
   "source": [
    "### Modules and Pip"
   ]
  },
  {
   "cell_type": "code",
   "execution_count": null,
   "metadata": {},
   "outputs": [],
   "source": [
    "#import .py files as modules (list of python modules in google)\n",
    "import useful_tools #get acces to all variables and functions of that file\n",
    "\n",
    "print (useful_tools.beatles)\n",
    "print (useful_tools.roll_dice(10))\n",
    "\n",
    "#external modules can be usually installed using \\\\pip install \"module_name\"\n",
    "#it installs into Lib/site-packages"
   ]
  },
  {
   "cell_type": "markdown",
   "metadata": {},
   "source": [
    "### Classes and Objects"
   ]
  },
  {
   "cell_type": "code",
   "execution_count": null,
   "metadata": {},
   "outputs": [],
   "source": [
    "#clases create our own data type\n",
    "from studentClass import Student #importing class from studentClass.py file\n",
    "\n",
    "student1 = Student(\"Jim\", \"Business\", 3.1, False) #defining an student object\n",
    "student2 = Student(\"Pam\", \"Art\", 2.5, True)\n",
    "\n",
    "print (student1.name)\n",
    "print (student2.gpa)"
   ]
  },
  {
   "cell_type": "markdown",
   "metadata": {},
   "source": [
    "### Multiple Choice Test "
   ]
  },
  {
   "cell_type": "code",
   "execution_count": null,
   "metadata": {},
   "outputs": [],
   "source": [
    "#impoort class\n",
    "from question import Question\n",
    "\n",
    "#original input\n",
    "question_prompts = [\n",
    "    \"What color are Apples?\\n(a) Red/Green\\n(b) Yellow\\n(c) Orange\\n\\n\",\n",
    "    \"What color are Bananas?\\n(a) Red/Green\\n(b) Yellow\\n(c) Orange\\n\\n\",\n",
    "    \"What color are Peaches?\\n(a) Red/Green\\n(b) Yellow\\n(c) Orange\\n\\n\",\n",
    "]\n",
    "\n",
    "#transform into question clas\n",
    "questions = [\n",
    "    Question(question_prompts[0], \"a\"),\n",
    "    Question(question_prompts[1], \"b\"),\n",
    "    Question(question_prompts[2], \"c\")\n",
    "]\n",
    "\n",
    "#test\n",
    "def run_test(questions):\n",
    "    score = 0\n",
    "    for question in questions:\n",
    "        answer = input(question.prompt)\n",
    "        if answer == question.answer:\n",
    "            score += 1\n",
    "    print (\"You got \" + str(score) + \"/\" + str(len(questions)))\n",
    "\n",
    "#run test\n",
    "run_test(questions)"
   ]
  },
  {
   "cell_type": "markdown",
   "metadata": {},
   "source": [
    "### Class Functions"
   ]
  },
  {
   "cell_type": "code",
   "execution_count": null,
   "metadata": {},
   "outputs": [],
   "source": [
    "#create our own data type\n",
    "class Student:\n",
    "    def __init__(self, name, major, gpa):\n",
    "        self.name = name\n",
    "        self.major = major\n",
    "        self.gpa = gpa\n",
    "\n",
    "    #defining a function inside our class\n",
    "    def on_honor_roll(self):\n",
    "        if self.gpa >= 3.5:\n",
    "            return True\n",
    "        else:\n",
    "            return False\n",
    "\n",
    "#defining an student object\n",
    "student1 = Student(\"Jim\", \"Business\", 3.7) \n",
    "student2 = Student(\"Pam\", \"Art\", 2.5)\n",
    "\n",
    "#check function\n",
    "print (student1.on_honor_roll())\n",
    "print (student2.on_honor_roll())"
   ]
  },
  {
   "cell_type": "markdown",
   "metadata": {},
   "source": [
    "### Class Inheritance"
   ]
  },
  {
   "cell_type": "code",
   "execution_count": null,
   "metadata": {},
   "outputs": [],
   "source": [
    "#some classes can inheritate specificacionts from another\n",
    "from chef import Chef\n",
    "from chineseChef import ChineseChef\n",
    "\n",
    "#progenitor\n",
    "myChef = Chef()\n",
    "myChef.make_special_dish()\n",
    "\n",
    "#inheritor\n",
    "myChineseChef = ChineseChef()\n",
    "myChineseChef.make_fried_rice()\n",
    "myChineseChef.make_special_dish()"
   ]
  },
  {
   "cell_type": "code",
   "execution_count": null,
   "metadata": {},
   "outputs": [],
   "source": []
  }
 ],
 "metadata": {
  "kernelspec": {
   "display_name": "Python 3",
   "language": "python",
   "name": "python3"
  },
  "language_info": {
   "codemirror_mode": {
    "name": "ipython",
    "version": 3
   },
   "file_extension": ".py",
   "mimetype": "text/x-python",
   "name": "python",
   "nbconvert_exporter": "python",
   "pygments_lexer": "ipython3",
   "version": "3.7.3"
  }
 },
 "nbformat": 4,
 "nbformat_minor": 2
}
