{
 "metadata": {
  "language_info": {
   "codemirror_mode": {
    "name": "ipython",
    "version": 3
   },
   "file_extension": ".py",
   "mimetype": "text/x-python",
   "name": "python",
   "nbconvert_exporter": "python",
   "pygments_lexer": "ipython3",
   "version": "3.7.3-final"
  },
  "orig_nbformat": 2,
  "kernelspec": {
   "name": "python3",
   "display_name": "Python 3.7.3 64-bit ('base': conda)",
   "metadata": {
    "interpreter": {
     "hash": "220e57f2b99850587976c4b24cd88f39a2b4e71f224579d5ae169dec6f62cb49"
    }
   }
  }
 },
 "nbformat": 4,
 "nbformat_minor": 2,
 "cells": [
  {
   "source": [
    "# Pandas Tutorial"
   ],
   "cell_type": "markdown",
   "metadata": {}
  },
  {
   "source": [
    "### Import Data"
   ],
   "cell_type": "markdown",
   "metadata": {}
  },
  {
   "cell_type": "code",
   "execution_count": 86,
   "metadata": {},
   "outputs": [
    {
     "output_type": "execute_result",
     "data": {
      "text/plain": [
       "       #                   Name  Type 1  Type 2  HP  Attack  Defense  Sp. Atk  \\\n",
       "94    87                Dewgong   Water     Ice  90      70       80       70   \n",
       "474  427                Buneary  Normal     NaN  55      66       44       44   \n",
       "703  641  TornadusTherian Forme  Flying     NaN  79     100       80      110   \n",
       "222  207                 Gligar  Ground  Flying  65      75      105       35   \n",
       "265  246               Larvitar    Rock  Ground  50      64       50       45   \n",
       "\n",
       "     Sp. Def  Speed  Generation  Legendary  \n",
       "94        95     70           1      False  \n",
       "474       56     85           4      False  \n",
       "703       90    121           5       True  \n",
       "222       65     85           2      False  \n",
       "265       50     41           2      False  "
      ],
      "text/html": "<div>\n<style scoped>\n    .dataframe tbody tr th:only-of-type {\n        vertical-align: middle;\n    }\n\n    .dataframe tbody tr th {\n        vertical-align: top;\n    }\n\n    .dataframe thead th {\n        text-align: right;\n    }\n</style>\n<table border=\"1\" class=\"dataframe\">\n  <thead>\n    <tr style=\"text-align: right;\">\n      <th></th>\n      <th>#</th>\n      <th>Name</th>\n      <th>Type 1</th>\n      <th>Type 2</th>\n      <th>HP</th>\n      <th>Attack</th>\n      <th>Defense</th>\n      <th>Sp. Atk</th>\n      <th>Sp. Def</th>\n      <th>Speed</th>\n      <th>Generation</th>\n      <th>Legendary</th>\n    </tr>\n  </thead>\n  <tbody>\n    <tr>\n      <th>94</th>\n      <td>87</td>\n      <td>Dewgong</td>\n      <td>Water</td>\n      <td>Ice</td>\n      <td>90</td>\n      <td>70</td>\n      <td>80</td>\n      <td>70</td>\n      <td>95</td>\n      <td>70</td>\n      <td>1</td>\n      <td>False</td>\n    </tr>\n    <tr>\n      <th>474</th>\n      <td>427</td>\n      <td>Buneary</td>\n      <td>Normal</td>\n      <td>NaN</td>\n      <td>55</td>\n      <td>66</td>\n      <td>44</td>\n      <td>44</td>\n      <td>56</td>\n      <td>85</td>\n      <td>4</td>\n      <td>False</td>\n    </tr>\n    <tr>\n      <th>703</th>\n      <td>641</td>\n      <td>TornadusTherian Forme</td>\n      <td>Flying</td>\n      <td>NaN</td>\n      <td>79</td>\n      <td>100</td>\n      <td>80</td>\n      <td>110</td>\n      <td>90</td>\n      <td>121</td>\n      <td>5</td>\n      <td>True</td>\n    </tr>\n    <tr>\n      <th>222</th>\n      <td>207</td>\n      <td>Gligar</td>\n      <td>Ground</td>\n      <td>Flying</td>\n      <td>65</td>\n      <td>75</td>\n      <td>105</td>\n      <td>35</td>\n      <td>65</td>\n      <td>85</td>\n      <td>2</td>\n      <td>False</td>\n    </tr>\n    <tr>\n      <th>265</th>\n      <td>246</td>\n      <td>Larvitar</td>\n      <td>Rock</td>\n      <td>Ground</td>\n      <td>50</td>\n      <td>64</td>\n      <td>50</td>\n      <td>45</td>\n      <td>50</td>\n      <td>41</td>\n      <td>2</td>\n      <td>False</td>\n    </tr>\n  </tbody>\n</table>\n</div>"
     },
     "metadata": {},
     "execution_count": 86
    }
   ],
   "source": [
    "# Import Module\n",
    "import pandas as pd\n",
    "import numpy as np\n",
    "\n",
    "# Read Data\n",
    "data = pd.read_csv(\"pokemon_data.csv\") #csv\n",
    "data_xlsx = pd.read_excel(\"pokemon_data.xlsx\") #xlsx\n",
    "data_txt = pd.read_csv(\"pokemon_data.txt\", delimiter = \"\\t\") #txt (delimiter)\n",
    "\n",
    "# See Data\n",
    "data.head(5) #top5\n",
    "data_xlsx.tail(5) #tail5\n",
    "data_txt.sample(5) #random5"
   ]
  },
  {
   "source": [
    "### Reading Data"
   ],
   "cell_type": "markdown",
   "metadata": {}
  },
  {
   "cell_type": "code",
   "execution_count": 87,
   "metadata": {
    "tags": []
   },
   "outputs": [
    {
     "output_type": "execute_result",
     "data": {
      "text/plain": [
       "   #                       Name Type 1  Type 2  HP  Attack  Defense  Sp. Atk  \\\n",
       "4  4                 Charmander   Fire     NaN  39      52       43       60   \n",
       "5  5                 Charmeleon   Fire     NaN  58      64       58       80   \n",
       "6  6                  Charizard   Fire  Flying  78      84       78      109   \n",
       "7  6  CharizardMega Charizard X   Fire  Dragon  78     130      111      130   \n",
       "8  6  CharizardMega Charizard Y   Fire  Flying  78     104       78      159   \n",
       "\n",
       "   Sp. Def  Speed  Generation  Legendary  \n",
       "4       50     65           1      False  \n",
       "5       65     80           1      False  \n",
       "6       85    100           1      False  \n",
       "7       85    100           1      False  \n",
       "8      115    100           1      False  "
      ],
      "text/html": "<div>\n<style scoped>\n    .dataframe tbody tr th:only-of-type {\n        vertical-align: middle;\n    }\n\n    .dataframe tbody tr th {\n        vertical-align: top;\n    }\n\n    .dataframe thead th {\n        text-align: right;\n    }\n</style>\n<table border=\"1\" class=\"dataframe\">\n  <thead>\n    <tr style=\"text-align: right;\">\n      <th></th>\n      <th>#</th>\n      <th>Name</th>\n      <th>Type 1</th>\n      <th>Type 2</th>\n      <th>HP</th>\n      <th>Attack</th>\n      <th>Defense</th>\n      <th>Sp. Atk</th>\n      <th>Sp. Def</th>\n      <th>Speed</th>\n      <th>Generation</th>\n      <th>Legendary</th>\n    </tr>\n  </thead>\n  <tbody>\n    <tr>\n      <th>4</th>\n      <td>4</td>\n      <td>Charmander</td>\n      <td>Fire</td>\n      <td>NaN</td>\n      <td>39</td>\n      <td>52</td>\n      <td>43</td>\n      <td>60</td>\n      <td>50</td>\n      <td>65</td>\n      <td>1</td>\n      <td>False</td>\n    </tr>\n    <tr>\n      <th>5</th>\n      <td>5</td>\n      <td>Charmeleon</td>\n      <td>Fire</td>\n      <td>NaN</td>\n      <td>58</td>\n      <td>64</td>\n      <td>58</td>\n      <td>80</td>\n      <td>65</td>\n      <td>80</td>\n      <td>1</td>\n      <td>False</td>\n    </tr>\n    <tr>\n      <th>6</th>\n      <td>6</td>\n      <td>Charizard</td>\n      <td>Fire</td>\n      <td>Flying</td>\n      <td>78</td>\n      <td>84</td>\n      <td>78</td>\n      <td>109</td>\n      <td>85</td>\n      <td>100</td>\n      <td>1</td>\n      <td>False</td>\n    </tr>\n    <tr>\n      <th>7</th>\n      <td>6</td>\n      <td>CharizardMega Charizard X</td>\n      <td>Fire</td>\n      <td>Dragon</td>\n      <td>78</td>\n      <td>130</td>\n      <td>111</td>\n      <td>130</td>\n      <td>85</td>\n      <td>100</td>\n      <td>1</td>\n      <td>False</td>\n    </tr>\n    <tr>\n      <th>8</th>\n      <td>6</td>\n      <td>CharizardMega Charizard Y</td>\n      <td>Fire</td>\n      <td>Flying</td>\n      <td>78</td>\n      <td>104</td>\n      <td>78</td>\n      <td>159</td>\n      <td>115</td>\n      <td>100</td>\n      <td>1</td>\n      <td>False</td>\n    </tr>\n  </tbody>\n</table>\n</div>"
     },
     "metadata": {},
     "execution_count": 87
    }
   ],
   "source": [
    "# Reading Headers\n",
    "data.columns\n",
    "\n",
    "# Reading each Column\n",
    "data[[\"Name\"]].head(5)\n",
    "data[[\"#\", \"Name\", \"Type 1\", \"Type 2\"]].sample(5)\n",
    "\n",
    "# Reading each Row\n",
    "data.iloc[0:5] # row ID\n",
    "\n",
    "## Iterating all Rows\n",
    "#for index, row in data.iterrows(): # iterating all rows\n",
    "#    print (index, row[\"Name\"])\n",
    "\n",
    "# Reading specific location\n",
    "data.iloc[0,1]\n",
    "\n",
    "# Reading rows by information\n",
    "data.loc[data[\"Type 1\"] == \"Fire\"].head(5)"
   ]
  },
  {
   "source": [
    "### Sorting/Describing Data "
   ],
   "cell_type": "markdown",
   "metadata": {}
  },
  {
   "cell_type": "code",
   "execution_count": 88,
   "metadata": {},
   "outputs": [
    {
     "output_type": "execute_result",
     "data": {
      "text/plain": [
       "       #                     Name   Type 1    Type 2   HP  Attack  Defense  \\\n",
       "163  150      MewtwoMega Mewtwo X  Psychic  Fighting  106     190      100   \n",
       "232  214  HeracrossMega Heracross      Bug  Fighting   80     185      115   \n",
       "424  383    GroudonPrimal Groudon   Ground      Fire  100     180      160   \n",
       "426  384    RayquazaMega Rayquaza   Dragon    Flying  105     180      100   \n",
       "429  386       DeoxysAttack Forme  Psychic       NaN   50     180       20   \n",
       "\n",
       "     Sp. Atk  Sp. Def  Speed  Generation  Legendary  \n",
       "163      154      100    130           1       True  \n",
       "232       40      105     75           2      False  \n",
       "424      150       90     90           3       True  \n",
       "426      180      100    115           3       True  \n",
       "429      180       20    150           3       True  "
      ],
      "text/html": "<div>\n<style scoped>\n    .dataframe tbody tr th:only-of-type {\n        vertical-align: middle;\n    }\n\n    .dataframe tbody tr th {\n        vertical-align: top;\n    }\n\n    .dataframe thead th {\n        text-align: right;\n    }\n</style>\n<table border=\"1\" class=\"dataframe\">\n  <thead>\n    <tr style=\"text-align: right;\">\n      <th></th>\n      <th>#</th>\n      <th>Name</th>\n      <th>Type 1</th>\n      <th>Type 2</th>\n      <th>HP</th>\n      <th>Attack</th>\n      <th>Defense</th>\n      <th>Sp. Atk</th>\n      <th>Sp. Def</th>\n      <th>Speed</th>\n      <th>Generation</th>\n      <th>Legendary</th>\n    </tr>\n  </thead>\n  <tbody>\n    <tr>\n      <th>163</th>\n      <td>150</td>\n      <td>MewtwoMega Mewtwo X</td>\n      <td>Psychic</td>\n      <td>Fighting</td>\n      <td>106</td>\n      <td>190</td>\n      <td>100</td>\n      <td>154</td>\n      <td>100</td>\n      <td>130</td>\n      <td>1</td>\n      <td>True</td>\n    </tr>\n    <tr>\n      <th>232</th>\n      <td>214</td>\n      <td>HeracrossMega Heracross</td>\n      <td>Bug</td>\n      <td>Fighting</td>\n      <td>80</td>\n      <td>185</td>\n      <td>115</td>\n      <td>40</td>\n      <td>105</td>\n      <td>75</td>\n      <td>2</td>\n      <td>False</td>\n    </tr>\n    <tr>\n      <th>424</th>\n      <td>383</td>\n      <td>GroudonPrimal Groudon</td>\n      <td>Ground</td>\n      <td>Fire</td>\n      <td>100</td>\n      <td>180</td>\n      <td>160</td>\n      <td>150</td>\n      <td>90</td>\n      <td>90</td>\n      <td>3</td>\n      <td>True</td>\n    </tr>\n    <tr>\n      <th>426</th>\n      <td>384</td>\n      <td>RayquazaMega Rayquaza</td>\n      <td>Dragon</td>\n      <td>Flying</td>\n      <td>105</td>\n      <td>180</td>\n      <td>100</td>\n      <td>180</td>\n      <td>100</td>\n      <td>115</td>\n      <td>3</td>\n      <td>True</td>\n    </tr>\n    <tr>\n      <th>429</th>\n      <td>386</td>\n      <td>DeoxysAttack Forme</td>\n      <td>Psychic</td>\n      <td>NaN</td>\n      <td>50</td>\n      <td>180</td>\n      <td>20</td>\n      <td>180</td>\n      <td>20</td>\n      <td>150</td>\n      <td>3</td>\n      <td>True</td>\n    </tr>\n  </tbody>\n</table>\n</div>"
     },
     "metadata": {},
     "execution_count": 88
    }
   ],
   "source": [
    "# Describing Data\n",
    "data.describe()\n",
    "\n",
    "# Sort Values\n",
    "data.sort_values(\"Name\", ascending = False)\n",
    "data.sort_values([\"Attack\", \"#\"], ascending = [False, True]).head(5)"
   ]
  },
  {
   "source": [
    "### Updating Data"
   ],
   "cell_type": "markdown",
   "metadata": {}
  },
  {
   "cell_type": "code",
   "execution_count": 89,
   "metadata": {},
   "outputs": [
    {
     "output_type": "execute_result",
     "data": {
      "text/plain": [
       "   #                   Name Type 1  Type 2  Total  HP  Attack  Defense  \\\n",
       "0  1              Bulbasaur  Grass  Poison    318  45      49       49   \n",
       "1  2                Ivysaur  Grass  Poison    405  60      62       63   \n",
       "2  3               Venusaur  Grass  Poison    525  80      82       83   \n",
       "3  3  VenusaurMega Venusaur  Grass  Poison    625  80     100      123   \n",
       "4  4             Charmander   Fire     NaN    309  39      52       43   \n",
       "\n",
       "   Sp. Atk  Sp. Def  Speed  Generation  Legendary  \n",
       "0       65       65     45           1      False  \n",
       "1       80       80     60           1      False  \n",
       "2      100      100     80           1      False  \n",
       "3      122      120     80           1      False  \n",
       "4       60       50     65           1      False  "
      ],
      "text/html": "<div>\n<style scoped>\n    .dataframe tbody tr th:only-of-type {\n        vertical-align: middle;\n    }\n\n    .dataframe tbody tr th {\n        vertical-align: top;\n    }\n\n    .dataframe thead th {\n        text-align: right;\n    }\n</style>\n<table border=\"1\" class=\"dataframe\">\n  <thead>\n    <tr style=\"text-align: right;\">\n      <th></th>\n      <th>#</th>\n      <th>Name</th>\n      <th>Type 1</th>\n      <th>Type 2</th>\n      <th>Total</th>\n      <th>HP</th>\n      <th>Attack</th>\n      <th>Defense</th>\n      <th>Sp. Atk</th>\n      <th>Sp. Def</th>\n      <th>Speed</th>\n      <th>Generation</th>\n      <th>Legendary</th>\n    </tr>\n  </thead>\n  <tbody>\n    <tr>\n      <th>0</th>\n      <td>1</td>\n      <td>Bulbasaur</td>\n      <td>Grass</td>\n      <td>Poison</td>\n      <td>318</td>\n      <td>45</td>\n      <td>49</td>\n      <td>49</td>\n      <td>65</td>\n      <td>65</td>\n      <td>45</td>\n      <td>1</td>\n      <td>False</td>\n    </tr>\n    <tr>\n      <th>1</th>\n      <td>2</td>\n      <td>Ivysaur</td>\n      <td>Grass</td>\n      <td>Poison</td>\n      <td>405</td>\n      <td>60</td>\n      <td>62</td>\n      <td>63</td>\n      <td>80</td>\n      <td>80</td>\n      <td>60</td>\n      <td>1</td>\n      <td>False</td>\n    </tr>\n    <tr>\n      <th>2</th>\n      <td>3</td>\n      <td>Venusaur</td>\n      <td>Grass</td>\n      <td>Poison</td>\n      <td>525</td>\n      <td>80</td>\n      <td>82</td>\n      <td>83</td>\n      <td>100</td>\n      <td>100</td>\n      <td>80</td>\n      <td>1</td>\n      <td>False</td>\n    </tr>\n    <tr>\n      <th>3</th>\n      <td>3</td>\n      <td>VenusaurMega Venusaur</td>\n      <td>Grass</td>\n      <td>Poison</td>\n      <td>625</td>\n      <td>80</td>\n      <td>100</td>\n      <td>123</td>\n      <td>122</td>\n      <td>120</td>\n      <td>80</td>\n      <td>1</td>\n      <td>False</td>\n    </tr>\n    <tr>\n      <th>4</th>\n      <td>4</td>\n      <td>Charmander</td>\n      <td>Fire</td>\n      <td>NaN</td>\n      <td>309</td>\n      <td>39</td>\n      <td>52</td>\n      <td>43</td>\n      <td>60</td>\n      <td>50</td>\n      <td>65</td>\n      <td>1</td>\n      <td>False</td>\n    </tr>\n  </tbody>\n</table>\n</div>"
     },
     "metadata": {},
     "execution_count": 89
    }
   ],
   "source": [
    "# Add a new column (Safer way)\n",
    "data[\"Total\"] = data.Attack + data.Defense + data[\"Sp. Atk\"] + data[\"Sp. Def\"] + data.Speed + data.HP\n",
    "\n",
    "# Deleting column\n",
    "data = data.drop(columns=\"Total\")\n",
    "\n",
    "# Adding Again in different ways\n",
    "data[\"Total\"] = sum([data[data.columns[x]] for x in range(4,10)])\n",
    "data[\"Total\"] = data.iloc[:,4:10].sum(axis = 1)\n",
    "\n",
    "# Insert Column\n",
    "cols = list(data.columns.values)\n",
    "data = data[cols[0:4] + [cols[-1]] + cols[4:12]]\n",
    "data.head(5)"
   ]
  },
  {
   "source": [
    "### Save Data"
   ],
   "cell_type": "markdown",
   "metadata": {}
  },
  {
   "cell_type": "code",
   "execution_count": 90,
   "metadata": {},
   "outputs": [],
   "source": [
    "#Save data as file\n",
    "data.to_csv(\"modified.csv\", index = False)\n",
    "data.to_excel(\"modified.xlsx\", index = False)\n",
    "data.to_csv(\"modified.txt\", index = False, sep = \"\\t\")"
   ]
  },
  {
   "source": [
    "### Filter Data"
   ],
   "cell_type": "markdown",
   "metadata": {}
  },
  {
   "cell_type": "code",
   "execution_count": 91,
   "metadata": {},
   "outputs": [
    {
     "output_type": "execute_result",
     "data": {
      "text/plain": [
       "     #                 Name    Type 1  Type 2  Total  HP  Attack  Defense  \\\n",
       "20  16               Pidgey    Normal  Flying    251  40      45       40   \n",
       "21  17            Pidgeotto    Normal  Flying    349  63      60       55   \n",
       "22  18              Pidgeot    Normal  Flying    479  83      80       75   \n",
       "23  18  PidgeotMega Pidgeot    Normal  Flying    579  83      80       80   \n",
       "30  25              Pikachu  Electric     NaN    320  35      55       40   \n",
       "\n",
       "    Sp. Atk  Sp. Def  Speed  Generation  Legendary  \n",
       "20       35       35     56           1      False  \n",
       "21       50       50     71           1      False  \n",
       "22       70       70    101           1      False  \n",
       "23      135       80    121           1      False  \n",
       "30       50       50     90           1      False  "
      ],
      "text/html": "<div>\n<style scoped>\n    .dataframe tbody tr th:only-of-type {\n        vertical-align: middle;\n    }\n\n    .dataframe tbody tr th {\n        vertical-align: top;\n    }\n\n    .dataframe thead th {\n        text-align: right;\n    }\n</style>\n<table border=\"1\" class=\"dataframe\">\n  <thead>\n    <tr style=\"text-align: right;\">\n      <th></th>\n      <th>#</th>\n      <th>Name</th>\n      <th>Type 1</th>\n      <th>Type 2</th>\n      <th>Total</th>\n      <th>HP</th>\n      <th>Attack</th>\n      <th>Defense</th>\n      <th>Sp. Atk</th>\n      <th>Sp. Def</th>\n      <th>Speed</th>\n      <th>Generation</th>\n      <th>Legendary</th>\n    </tr>\n  </thead>\n  <tbody>\n    <tr>\n      <th>20</th>\n      <td>16</td>\n      <td>Pidgey</td>\n      <td>Normal</td>\n      <td>Flying</td>\n      <td>251</td>\n      <td>40</td>\n      <td>45</td>\n      <td>40</td>\n      <td>35</td>\n      <td>35</td>\n      <td>56</td>\n      <td>1</td>\n      <td>False</td>\n    </tr>\n    <tr>\n      <th>21</th>\n      <td>17</td>\n      <td>Pidgeotto</td>\n      <td>Normal</td>\n      <td>Flying</td>\n      <td>349</td>\n      <td>63</td>\n      <td>60</td>\n      <td>55</td>\n      <td>50</td>\n      <td>50</td>\n      <td>71</td>\n      <td>1</td>\n      <td>False</td>\n    </tr>\n    <tr>\n      <th>22</th>\n      <td>18</td>\n      <td>Pidgeot</td>\n      <td>Normal</td>\n      <td>Flying</td>\n      <td>479</td>\n      <td>83</td>\n      <td>80</td>\n      <td>75</td>\n      <td>70</td>\n      <td>70</td>\n      <td>101</td>\n      <td>1</td>\n      <td>False</td>\n    </tr>\n    <tr>\n      <th>23</th>\n      <td>18</td>\n      <td>PidgeotMega Pidgeot</td>\n      <td>Normal</td>\n      <td>Flying</td>\n      <td>579</td>\n      <td>83</td>\n      <td>80</td>\n      <td>80</td>\n      <td>135</td>\n      <td>80</td>\n      <td>121</td>\n      <td>1</td>\n      <td>False</td>\n    </tr>\n    <tr>\n      <th>30</th>\n      <td>25</td>\n      <td>Pikachu</td>\n      <td>Electric</td>\n      <td>NaN</td>\n      <td>320</td>\n      <td>35</td>\n      <td>55</td>\n      <td>40</td>\n      <td>50</td>\n      <td>50</td>\n      <td>90</td>\n      <td>1</td>\n      <td>False</td>\n    </tr>\n  </tbody>\n</table>\n</div>"
     },
     "metadata": {},
     "execution_count": 91
    }
   ],
   "source": [
    "# AND statement\n",
    "data.loc[(data[\"Type 1\"] == \"Grass\") & (data[\"Type 2\"] == \"Poison\")]\n",
    "\n",
    "# OR statement\n",
    "data.loc[(data[\"Type 1\"] == \"Grass\") | (data[\"Type 2\"] == \"Poison\")]\n",
    "\n",
    "# Reset Index\n",
    "new_data = data.loc[(data[\"Type 1\"] == \"Grass\") | (data[\"Type 2\"] == \"Poison\")]\n",
    "new_data.reset_index(drop = True, inplace = True)\n",
    "new_data.head(5)\n",
    "\n",
    "# By string\n",
    "data.loc[~data[\"Name\"].str.contains(\"Mega\")]\n",
    "data.loc[data[\"Name\"].str.contains(\"Mega\")]\n",
    "\n",
    "# RegEx module\n",
    "import re\n",
    "data.loc[data[\"Type 1\"].str.contains(\"Fire|Water\", regex = True)] # Fire or Water\n",
    "data.loc[data[\"Type 1\"].str.contains(\"fire|water\", flags = re.I, regex = True)] # Ignore case\n",
    "data.loc[data[\"Name\"].str.contains(\"^pi[a-z]*\", flags = re.I, regex = True)].head(5) # Ignore case"
   ]
  },
  {
   "source": [
    "### Conditional Changes"
   ],
   "cell_type": "markdown",
   "metadata": {}
  },
  {
   "cell_type": "code",
   "execution_count": 99,
   "metadata": {},
   "outputs": [
    {
     "output_type": "execute_result",
     "data": {
      "text/plain": [
       "   #                   Name Type 1  Type 2  Total  HP  Attack  Defense  \\\n",
       "0  1              Bulbasaur  Grass  Poison    318  45      49       49   \n",
       "1  2                Ivysaur  Grass  Poison    405  60      62       63   \n",
       "2  3               Venusaur  Grass  Poison    525  80      82       83   \n",
       "3  3  VenusaurMega Venusaur  Grass  Poison    625  80     100      123   \n",
       "4  4             Charmander   Fire     NaN    309  39      52       43   \n",
       "\n",
       "   Sp. Atk  Sp. Def  Speed Generation Legendary  \n",
       "0       65       65     45          1     False  \n",
       "1       80       80     60          1     False  \n",
       "2      100      100     80       Over   Powered  \n",
       "3      122      120     80       Over   Powered  \n",
       "4       60       50     65          1     False  "
      ],
      "text/html": "<div>\n<style scoped>\n    .dataframe tbody tr th:only-of-type {\n        vertical-align: middle;\n    }\n\n    .dataframe tbody tr th {\n        vertical-align: top;\n    }\n\n    .dataframe thead th {\n        text-align: right;\n    }\n</style>\n<table border=\"1\" class=\"dataframe\">\n  <thead>\n    <tr style=\"text-align: right;\">\n      <th></th>\n      <th>#</th>\n      <th>Name</th>\n      <th>Type 1</th>\n      <th>Type 2</th>\n      <th>Total</th>\n      <th>HP</th>\n      <th>Attack</th>\n      <th>Defense</th>\n      <th>Sp. Atk</th>\n      <th>Sp. Def</th>\n      <th>Speed</th>\n      <th>Generation</th>\n      <th>Legendary</th>\n    </tr>\n  </thead>\n  <tbody>\n    <tr>\n      <th>0</th>\n      <td>1</td>\n      <td>Bulbasaur</td>\n      <td>Grass</td>\n      <td>Poison</td>\n      <td>318</td>\n      <td>45</td>\n      <td>49</td>\n      <td>49</td>\n      <td>65</td>\n      <td>65</td>\n      <td>45</td>\n      <td>1</td>\n      <td>False</td>\n    </tr>\n    <tr>\n      <th>1</th>\n      <td>2</td>\n      <td>Ivysaur</td>\n      <td>Grass</td>\n      <td>Poison</td>\n      <td>405</td>\n      <td>60</td>\n      <td>62</td>\n      <td>63</td>\n      <td>80</td>\n      <td>80</td>\n      <td>60</td>\n      <td>1</td>\n      <td>False</td>\n    </tr>\n    <tr>\n      <th>2</th>\n      <td>3</td>\n      <td>Venusaur</td>\n      <td>Grass</td>\n      <td>Poison</td>\n      <td>525</td>\n      <td>80</td>\n      <td>82</td>\n      <td>83</td>\n      <td>100</td>\n      <td>100</td>\n      <td>80</td>\n      <td>Over</td>\n      <td>Powered</td>\n    </tr>\n    <tr>\n      <th>3</th>\n      <td>3</td>\n      <td>VenusaurMega Venusaur</td>\n      <td>Grass</td>\n      <td>Poison</td>\n      <td>625</td>\n      <td>80</td>\n      <td>100</td>\n      <td>123</td>\n      <td>122</td>\n      <td>120</td>\n      <td>80</td>\n      <td>Over</td>\n      <td>Powered</td>\n    </tr>\n    <tr>\n      <th>4</th>\n      <td>4</td>\n      <td>Charmander</td>\n      <td>Fire</td>\n      <td>NaN</td>\n      <td>309</td>\n      <td>39</td>\n      <td>52</td>\n      <td>43</td>\n      <td>60</td>\n      <td>50</td>\n      <td>65</td>\n      <td>1</td>\n      <td>False</td>\n    </tr>\n  </tbody>\n</table>\n</div>"
     },
     "metadata": {},
     "execution_count": 99
    }
   ],
   "source": [
    "# Change Fire to Hell\n",
    "data.loc[data[\"Type 1\"] == \"Fire\", \"Type 1\"] = \"Hell\" # Change Fire to Hell\n",
    "data.loc[data[\"Type 1\"] == \"Hell\", \"Type 1\"] = \"Fire\" # Change Fire to Hell\n",
    "\n",
    "# Change Grass Poison to Itchy Plants\n",
    "data.loc[data[\"Total\"] > 500, [\"Generation\", \"Legendary\"]] = [\"Over\", \"Powered\"]\n",
    "data.head(5)"
   ]
  },
  {
   "source": [
    "### Group By"
   ],
   "cell_type": "markdown",
   "metadata": {}
  },
  {
   "cell_type": "code",
   "execution_count": 149,
   "metadata": {},
   "outputs": [
    {
     "output_type": "execute_result",
     "data": {
      "text/plain": [
       "                  #\n",
       "Type 1 Type 2      \n",
       "Bug    Electric   2\n",
       "       Fighting   2\n",
       "       Fire       2\n",
       "       Flying    14\n",
       "       Ghost      1"
      ],
      "text/html": "<div>\n<style scoped>\n    .dataframe tbody tr th:only-of-type {\n        vertical-align: middle;\n    }\n\n    .dataframe tbody tr th {\n        vertical-align: top;\n    }\n\n    .dataframe thead th {\n        text-align: right;\n    }\n</style>\n<table border=\"1\" class=\"dataframe\">\n  <thead>\n    <tr style=\"text-align: right;\">\n      <th></th>\n      <th></th>\n      <th>#</th>\n    </tr>\n    <tr>\n      <th>Type 1</th>\n      <th>Type 2</th>\n      <th></th>\n    </tr>\n  </thead>\n  <tbody>\n    <tr>\n      <th rowspan=\"5\" valign=\"top\">Bug</th>\n      <th>Electric</th>\n      <td>2</td>\n    </tr>\n    <tr>\n      <th>Fighting</th>\n      <td>2</td>\n    </tr>\n    <tr>\n      <th>Fire</th>\n      <td>2</td>\n    </tr>\n    <tr>\n      <th>Flying</th>\n      <td>14</td>\n    </tr>\n    <tr>\n      <th>Ghost</th>\n      <td>1</td>\n    </tr>\n  </tbody>\n</table>\n</div>"
     },
     "metadata": {},
     "execution_count": 149
    }
   ],
   "source": [
    "# Import Modified File\n",
    "data = pd.read_csv(\"modified.csv\") #csv\n",
    "\n",
    "# Group By Type 1 and sort by mean of stats sum\n",
    "data[[\"Type 1\", \"Total\"]].groupby([\"Type 1\"]).mean().sort_values(\"Total\", ascending = False).head(5)\n",
    "\n",
    "# Mean and Sum\n",
    "df = data[[\"Type 1\", \"Total\"]].groupby([\"Type 1\"]).sum() / data[[\"Type 1\", \"Total\"]].groupby([\"Type 1\"]).count()\n",
    "df.sort_values(\"Total\", ascending = False).head(5)\n",
    "\n",
    "# Double group by\n",
    "df = data.groupby([\"Type 1\", \"Type 2\"]).count()[[\"#\"]]\n",
    "df.head(5)"
   ]
  }
 ]
}